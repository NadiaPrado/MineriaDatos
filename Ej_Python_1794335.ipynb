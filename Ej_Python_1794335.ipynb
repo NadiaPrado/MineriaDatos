{
 "cells": [
  {
   "cell_type": "markdown",
   "metadata": {},
   "source": [
    "# Ejercicio 1\n",
    "Realiza una variable con tu matricula y realiza una secuencia de imprimir con tu nombre y tu matricula concatenados."
   ]
  },
  {
   "cell_type": "code",
   "execution_count": null,
   "metadata": {},
   "outputs": [],
   "source": [
    "matricula = int(input(\"Introduce tu matricula:\" ))\n",
    "nombre = input(\"Introduce tu nombre: \")\n",
    "\n",
    "print (\"Sus datos son: \", nombre,matricula)"
   ]
  },
  {
   "cell_type": "markdown",
   "metadata": {},
   "source": [
    "# Ejercicio 2\n",
    "Pidiendo el input del usuario pide dos números y crea una pequeña calculadora con los operadores básicos de suma, resta, multiplicación, división, y exponente."
   ]
  },
  {
   "cell_type": "code",
   "execution_count": 58,
   "metadata": {},
   "outputs": [
    {
     "name": "stdout",
     "output_type": "stream",
     "text": [
      "CALCULADORA\n",
      "Introduzca un número entero:5\n",
      "Introduzca otro número entero:10\n",
      "      Los calculos son los siguientes      \n",
      "*La resta del número mayor menos el menor es de: 5\n",
      "*El resultado de la división teniendo el primer número como numerador es: 0.5\n",
      "*El resultado de la suma es de: 15\n",
      "*El resultado de la multiplicación es de: 50\n",
      "*El resultado del exponente teniendo como base el 1er número y potencia el 2do es de: 9765625\n"
     ]
    }
   ],
   "source": [
    "print(\"CALCULADORA\")\n",
    "a=int(input(\"Introduzca un número entero:\"))\n",
    "b=int(input(\"Introduzca otro número entero:\"))\n",
    "\n",
    "print(\"      Los calculos son los siguientes      \")\n",
    "if a>b:\n",
    "    resta1=a-b\n",
    "    print(\"*La resta del número mayor menos el menor es de:\",resta1)\n",
    "else:\n",
    "    resta2=b-a\n",
    "    print(\"*La resta del número mayor menos el menor es de:\",resta2)   \n",
    "suma=a+b\n",
    "mult=a*b\n",
    "div=a/b\n",
    "exp=a**b\n",
    "print(\"*El resultado de la división teniendo el primer número como numerador es:\",div)\n",
    "print(\"*El resultado de la suma es de:\",suma)\n",
    "print(\"*El resultado de la multiplicación es de:\",mult)\n",
    "print(\"*El resultado del exponente teniendo como base el 1er número y potencia el 2do es de:\",exp)"
   ]
  },
  {
   "cell_type": "markdown",
   "metadata": {},
   "source": [
    "# Ejercicio 3\n",
    "Con loop while o for, realiza una lista de 10 numeros multiplos de 3, y después realiza una función de loop que sume todos los números dentro del arreglo."
   ]
  },
  {
   "cell_type": "code",
   "execution_count": null,
   "metadata": {
    "scrolled": true
   },
   "outputs": [],
   "source": [
    "lista=[]\n",
    "j=0\n",
    "suma=0\n",
    "for i in range(1,11):\n",
    "    lista.append(i*3)\n",
    "print(\"La lista es:\",lista)\n",
    "while j<len(lista):\n",
    "    suma+=lista[j]\n",
    "    j+=1    \n",
    "print(\"La suma es:\",suma)"
   ]
  },
  {
   "cell_type": "markdown",
   "metadata": {},
   "source": [
    "# Ejercicio 4\n",
    "Con una función de if else, revisar si un número es par o es impar.\n",
    "Con una función de if else, revisar si un número es primo o no."
   ]
  },
  {
   "cell_type": "code",
   "execution_count": 57,
   "metadata": {},
   "outputs": [
    {
     "name": "stdout",
     "output_type": "stream",
     "text": [
      "Introduce un número entero: 10\n",
      "El número es par\n",
      "El número no es primo\n",
      "El número no es primo\n"
     ]
    }
   ],
   "source": [
    "primo=True\n",
    "número = int(input(\"Introduce un número entero: \"))\n",
    "if  (número%2)==0: \n",
    "    print (\"El número es par\")\n",
    "else:\n",
    "    print (\"El número es impar\")\n",
    "    \n",
    "for i in range(2,número):\n",
    "    if número%i==0:\n",
    "        primo=False\n",
    "        print(\"El número no es primo\")\n",
    "if primo==True:\n",
    "    print(\"El número es primo\")\n",
    "      "
   ]
  },
  {
   "cell_type": "markdown",
   "metadata": {},
   "source": [
    "# Ejercicio 5\n",
    "Utilizando diferentes clases en python, crea una calculadora con los operadores básicos de suma, resta, multiplicación, división, y exponente.\n",
    "\n",
    "Funciones matemáticas en la librería de math en python:"
   ]
  },
  {
   "cell_type": "code",
   "execution_count": null,
   "metadata": {},
   "outputs": [],
   "source": [
    "class Calculadora:\n",
    "    def Suma(a,b):\n",
    "        suma = str(a + b)\n",
    "        print(\"El resultado de \", a, \"+\",b, \"es \", suma)\n",
    "    def Resta(a,b):\n",
    "        resta = str(a - b)\n",
    "        print(\"El resultado de \", a, \"-\",b, \"es \", resta)\n",
    "    def Multiplicación(a,b):\n",
    "        mult = str(a * b)\n",
    "        print(\"El resultado de \", a, \"*\",b, \"es \", mult)     \n",
    "    def División(a,b):\n",
    "        div = str(a / b)\n",
    "        print(\"El resultado de \", a, \"/\",b, \"es \", div) \n",
    "    def Exponente(a,b):\n",
    "        exp = str(a ** b)\n",
    "        print(\"El resultado de \", a, \"**\",b, \"es \", exp)\n",
    "        \n",
    "op = int(1)\n",
    "a = float(input(\"Introduce un número (a): \"))\n",
    "b = float(input(\"Introduce otro número (b): \"))\n",
    "\n",
    "\n",
    "while op != 0:\n",
    "    print()\n",
    "    print(\"\\n Seleccione la operación que desea realizar: \")\n",
    "    print(\" 1.- Suma (a + b)\")\n",
    "    print(\" 2.- Resta (a - b)\")\n",
    "    print(\" 3.- Resta (b - a)\")\n",
    "    print(\" 4.- Multiplicación (a * b)\")\n",
    "    print(\" 5.- División (a / b)\")\n",
    "    print(\" 6.- División (b / a\")\n",
    "    print(\" 7.- Exponente (a ** b)\")\n",
    "    print(\" 8.- Exponente (b ** a)\")\n",
    "    print(\" 0.- Salir\")\n",
    "    op = int(input(\" Opción: \"))\n",
    "\n",
    "    if op == 1:\n",
    "        Calculadora.Suma(a,b)\n",
    "    elif op == 2:\n",
    "        Calculadora.Resta(a,b)\n",
    "    elif op == 3:\n",
    "        Calculadora.Resta(b,a)\n",
    "    elif op == 4:\n",
    "        Calculadora.Multiplicación(a,b)\n",
    "    elif op == 5:\n",
    "        Calculadora.División(a,b)\n",
    "    elif op == 6:\n",
    "        Calculadora.División(b,a)\n",
    "    elif op == 7:\n",
    "        Calculadora.Exponente(a,b)\n",
    "    elif op == 8:\n",
    "        Calculadora.Exponente(b,a)\n",
    "    elif op == 0:\n",
    "        break\n",
    "    else:\n",
    "        print(\"Esta opción no existe, vuelva a intentarlo.\")\n",
    "        break\n",
    "    \n",
    "    \n",
    "    op = int(input(\"\\nPresione 0 para salir u cualquier otro número para continuar: \"))"
   ]
  },
  {
   "cell_type": "markdown",
   "metadata": {},
   "source": [
    "# Tuplas\n",
    "\n",
    "*Crear una variable flotante, integer, boleana y compleja e imprimir el tipo de variable que es.\n"
   ]
  },
  {
   "cell_type": "code",
   "execution_count": 55,
   "metadata": {},
   "outputs": [
    {
     "name": "stdout",
     "output_type": "stream",
     "text": [
      "<class 'float'>\n",
      "<class 'int'>\n",
      "<class 'bool'>\n",
      "<class 'complex'>\n"
     ]
    }
   ],
   "source": [
    "flotante = 3.1416\n",
    "entero = 8\n",
    "boleana = True\n",
    "compleja = 2+5j\n",
    "print(type(flotante))\n",
    "print(type(entero))\n",
    "print(type(boleana))\n",
    "print(type(compleja))\n"
   ]
  },
  {
   "cell_type": "markdown",
   "metadata": {},
   "source": [
    "Crear una tupla con valores enteros imprimir el primer y ultimo valor."
   ]
  },
  {
   "cell_type": "code",
   "execution_count": null,
   "metadata": {},
   "outputs": [],
   "source": [
    "tupla=(1,2,3,4,5)\n",
    "print(\"El primero y ultimo número de la tupla son:\",tupla[0],tupla[len(tupla)-1])"
   ]
  },
  {
   "cell_type": "markdown",
   "metadata": {},
   "source": [
    "Añadir 3 valores de string a la tupla."
   ]
  },
  {
   "cell_type": "code",
   "execution_count": null,
   "metadata": {},
   "outputs": [],
   "source": [
    "lista=list(tupla)\n",
    "lista.append(\"String1\")\n",
    "lista.append(\"String2\")\n",
    "lista.append(\"String3\")\n",
    "tuplaNueva = tuple(lista)\n",
    "print(\"La tupla nueva es: \",tuplaNueva)\n"
   ]
  },
  {
   "cell_type": "markdown",
   "metadata": {},
   "source": [
    "Verificar si una variable existe dentro de la tupla."
   ]
  },
  {
   "cell_type": "code",
   "execution_count": null,
   "metadata": {},
   "outputs": [],
   "source": [
    "variable = 5\n",
    "for i in tuplaNueva:\n",
    "    if i == variable:\n",
    "        print(\"El\",variable,\"si esta dentro de la tupla\")\n",
    "   "
   ]
  },
  {
   "cell_type": "markdown",
   "metadata": {},
   "source": [
    "# Listas\n",
    "\n",
    "*Crear una lista con 40 elementos aleatorios enteros."
   ]
  },
  {
   "cell_type": "code",
   "execution_count": 5,
   "metadata": {},
   "outputs": [
    {
     "name": "stdout",
     "output_type": "stream",
     "text": [
      "Lista de 40 elementos aleatorios [22, 22, 91, 74, 24, 33, 86, 75, 52, 85, 81, 77, 86, 80, 69, 81, 7, 38, 47, 3, 46, 89, 77, 70, 50, 21, 46, 25, 47, 71, 53, 57, 93, 86, 85, 98, 43, 29, 1, 53]\n",
      "\n",
      " Lista de elementos pares:  [22, 22, 74, 24, 86, 52, 86, 80, 38, 46, 70, 50, 46, 86, 98]\n",
      "\n",
      " Lista de elementos impares:  [91, 33, 75, 85, 81, 77, 69, 81, 7, 47, 3, 89, 77, 21, 25, 47, 71, 53, 57, 93, 85, 43, 29, 1, 53]\n"
     ]
    }
   ],
   "source": [
    "##https://parzibyte.me/blog\n",
    "import random as r\n",
    "\n",
    "Lista = []\n",
    "\n",
    "for i in range(0,40):\n",
    "    Lista.append(r.randint(0, 100))\n",
    "\n",
    "print(\"Lista de 40 elementos aleatorios\",Lista)\n",
    "\n",
    "def clase(lista):\n",
    "    ListaPar = []\n",
    "    ListaImpar = []\n",
    "    \n",
    "    for i in range(0,len(lista)):\n",
    "        if ((-1)**lista[i] == 1):\n",
    "            ListaPar.append(lista[i])\n",
    "        else:\n",
    "            ListaImpar.append(lista[i])\n",
    "    return(ListaPar,ListaImpar)\n",
    "\n",
    "\n",
    "Lista_par = clase(Lista)[0]\n",
    "Lista_impar = clase(Lista)[1]\n",
    "\n",
    "print(\"\\n Lista de elementos pares: \",Lista_par)\n",
    "\n",
    "print(\"\\n Lista de elementos impares: \",Lista_impar)"
   ]
  },
  {
   "cell_type": "markdown",
   "metadata": {},
   "source": [
    "Con una funcion (def) crear dos listas nuevas a partir de la lista creada por numeros aleatorios, en la cual en una esten los elementos pares, y en la otra los elementos impares."
   ]
  },
  {
   "cell_type": "code",
   "execution_count": 6,
   "metadata": {},
   "outputs": [
    {
     "name": "stdout",
     "output_type": "stream",
     "text": [
      "\n",
      " Lista de elementos pares:  [22, 22, 74, 24, 86, 52, 86, 80, 38, 46, 70, 50, 46, 86, 98]\n",
      "\n",
      " Lista de elementos impares:  [91, 33, 75, 85, 81, 77, 69, 81, 7, 47, 3, 89, 77, 21, 25, 47, 71, 53, 57, 93, 85, 43, 29, 1, 53]\n"
     ]
    }
   ],
   "source": [
    "def clase(lista):\n",
    "    ListaPar = []\n",
    "    ListaImpar = []\n",
    "    \n",
    "    for i in range(0,len(lista)):\n",
    "        if ((-1)**lista[i] == 1):\n",
    "            ListaPar.append(lista[i])\n",
    "        else:\n",
    "            ListaImpar.append(lista[i])\n",
    "    return(ListaPar,ListaImpar)\n",
    "\n",
    "Lista_par = clase(Lista)[0]\n",
    "Lista_impar = clase(Lista)[1]\n",
    "\n",
    "print(\"\\n Lista de elementos pares: \",Lista_par)\n",
    "\n",
    "print(\"\\n Lista de elementos impares: \",Lista_impar)\n"
   ]
  },
  {
   "cell_type": "markdown",
   "metadata": {},
   "source": [
    "Crear dos variables con la longitud de ambas listas nuevas e imprimir las variables."
   ]
  },
  {
   "cell_type": "code",
   "execution_count": 7,
   "metadata": {},
   "outputs": [
    {
     "name": "stdout",
     "output_type": "stream",
     "text": [
      "\n",
      " La longitud de la lista par es:  15\n",
      "\n",
      " La longitud de la lista impar es:  25\n"
     ]
    }
   ],
   "source": [
    "longitudPar = len(Lista_par)\n",
    "longitudImpar = len(Lista_impar)\n",
    "\n",
    "print(\"\\n La longitud de la lista par es: \", longitudPar)\n",
    "print(\"\\n La longitud de la lista impar es: \", longitudImpar)\n"
   ]
  },
  {
   "cell_type": "markdown",
   "metadata": {},
   "source": [
    "Ordenar los elementos de la lista par de mayor a menor, y los de la lista impar de menor a mayor."
   ]
  },
  {
   "cell_type": "code",
   "execution_count": 3,
   "metadata": {},
   "outputs": [
    {
     "name": "stdout",
     "output_type": "stream",
     "text": [
      "La lista par ordenada de mayor a menor:  [92, 90, 88, 86, 80, 70, 66, 62, 60, 58, 56, 54, 52, 50, 30, 24, 8, 6, 6, 4, 0]\n",
      "La lista impar ordenada de menor a mayor:  [1, 3, 5, 9, 15, 25, 29, 49, 49, 49, 51, 55, 59, 61, 63, 69, 75, 77, 93]\n"
     ]
    }
   ],
   "source": [
    "Lista_par.sort(reverse= True)\n",
    "Lista_impar.sort()\n",
    "\n",
    "print(\"La lista par ordenada de mayor a menor: \" , Lista_par)\n",
    "print(\"La lista impar ordenada de menor a mayor: \" , Lista_impar)"
   ]
  },
  {
   "cell_type": "markdown",
   "metadata": {},
   "source": [
    "Utilizar al menos cuatro de las funciones de listas en python en la lista original de 40 elementos."
   ]
  },
  {
   "cell_type": "code",
   "execution_count": 4,
   "metadata": {},
   "outputs": [
    {
     "name": "stdout",
     "output_type": "stream",
     "text": [
      "Introduzca el número que desea agregar a la lista original: 2\n",
      "La longitud de mi lista ahora es:  41 y la lista nueva es:  [86, 88, 29, 59, 61, 15, 8, 66, 30, 92, 90, 77, 49, 4, 24, 9, 70, 6, 93, 62, 54, 50, 56, 60, 5, 3, 25, 51, 6, 75, 55, 0, 1, 80, 52, 49, 49, 58, 63, 69, 2]\n"
     ]
    }
   ],
   "source": [
    "NuevaLista = int(input(\"Introduzca el número que desea agregar a la lista original: \"))\n",
    "Lista.append(NuevaLista)\n",
    "print(\"La longitud de mi lista ahora es: \",len(Lista), \"y la lista nueva es: \",Lista)"
   ]
  },
  {
   "cell_type": "code",
   "execution_count": 10,
   "metadata": {},
   "outputs": [
    {
     "name": "stdout",
     "output_type": "stream",
     "text": [
      "La lista al reverso es:  [53, 1, 29, 43, 98, 85, 86, 93, 57, 53, 71, 47, 25, 46, 21, 50, 70, 77, 89, 46, 3, 47, 38, 7, 81, 69, 80, 86, 77, 81, 85, 52, 75, 86, 33, 24, 74, 91, 22, 22]\n"
     ]
    }
   ],
   "source": [
    "Lista.reverse()\n",
    "print(\"La lista al reverso es: \", Lista)"
   ]
  },
  {
   "cell_type": "code",
   "execution_count": 12,
   "metadata": {},
   "outputs": [
    {
     "name": "stdout",
     "output_type": "stream",
     "text": [
      "La lista sin el dato mínimo es:  [53, 29, 43, 98, 85, 86, 93, 57, 53, 71, 47, 25, 46, 21, 50, 70, 77, 89, 46, 3, 47, 38, 7, 81, 69, 80, 86, 77, 81, 85, 52, 75, 86, 33, 24, 74, 91, 22, 22]\n"
     ]
    }
   ],
   "source": [
    "Lista.remove(min(Lista)) \n",
    "print(\"La lista sin el dato mínimo es: \", Lista)"
   ]
  },
  {
   "cell_type": "code",
   "execution_count": 13,
   "metadata": {},
   "outputs": [
    {
     "name": "stdout",
     "output_type": "stream",
     "text": [
      "La lista ahora está vacia:  []\n"
     ]
    }
   ],
   "source": [
    "Lista.clear()\n",
    "print(\"La lista ahora está vacia: \", Lista)"
   ]
  },
  {
   "cell_type": "markdown",
   "metadata": {},
   "source": [
    "# Diccionario\n",
    "*Crear un diccionario de 6 personas que conozcas con su primer nombre y su edad."
   ]
  },
  {
   "cell_type": "code",
   "execution_count": 15,
   "metadata": {},
   "outputs": [],
   "source": [
    "Diccionario = { 'Clara': 19, 'Alexis':21, 'Beatriz':8, 'Yare':10, 'Nadia':20, 'Hannia': 16}"
   ]
  },
  {
   "cell_type": "markdown",
   "metadata": {},
   "source": [
    "*Crear una lista con los valores de la edad y reacomodar la lista de menor a mayor valor."
   ]
  },
  {
   "cell_type": "code",
   "execution_count": 16,
   "metadata": {},
   "outputs": [
    {
     "name": "stdout",
     "output_type": "stream",
     "text": [
      "Las edades de menor a mayor valor es:  [8, 10, 16, 19, 20, 21]\n"
     ]
    }
   ],
   "source": [
    "Edades= sorted(Diccionario.values())\n",
    "\n",
    "print(\"Las edades de menor a mayor valor es: \", Edades)\n"
   ]
  },
  {
   "cell_type": "markdown",
   "metadata": {},
   "source": [
    "*Usando el diccionario y un loop, imprimir solo los nombres."
   ]
  },
  {
   "cell_type": "code",
   "execution_count": 17,
   "metadata": {},
   "outputs": [
    {
     "name": "stdout",
     "output_type": "stream",
     "text": [
      "Clara\n",
      "Alexis\n",
      "Beatriz\n",
      "Yare\n",
      "Nadia\n",
      "Hannia\n"
     ]
    }
   ],
   "source": [
    "for i in Diccionario: print(i)"
   ]
  },
  {
   "cell_type": "markdown",
   "metadata": {},
   "source": [
    "*Añadir dos personas nuevas a tu diccionario, incluyendo edad."
   ]
  },
  {
   "cell_type": "code",
   "execution_count": 18,
   "metadata": {},
   "outputs": [
    {
     "name": "stdout",
     "output_type": "stream",
     "text": [
      "Ingrese el nombre de la primer persona que desea añadir: Marissa\n",
      "Ingrese la edad de la persona que añadió: 16\n",
      "\n",
      "Ingrese el nombre de la segunda persona que desea añadir: Marbel\n",
      "Ingrese la edad de la persona que añadió: 20\n",
      "\n",
      "Nuestro diccionario actualizado es:  {'Clara': 19, 'Alexis': 21, 'Beatriz': 8, 'Yare': 10, 'Nadia': 20, 'Hannia': 16, 'Marissa': '16', 'Marbel': '20'}\n"
     ]
    }
   ],
   "source": [
    "nombre1= input(\"Ingrese el nombre de la primer persona que desea añadir: \")\n",
    "edad1= input(\"Ingrese la edad de la persona que añadió: \")\n",
    "\n",
    "nombre2= input(\"\\nIngrese el nombre de la segunda persona que desea añadir: \")\n",
    "edad2= input(\"Ingrese la edad de la persona que añadió: \")\n",
    "\n",
    "Diccionario[nombre1]=edad1\n",
    "Diccionario[nombre2]=edad2\n",
    "\n",
    "print(\"\\nNuestro diccionario actualizado es: \", Diccionario)"
   ]
  },
  {
   "cell_type": "markdown",
   "metadata": {},
   "source": [
    "# Sets\n",
    "*Crea un set con 100 numeros aleatorios enteros del 1 al 25."
   ]
  },
  {
   "cell_type": "code",
   "execution_count": 50,
   "metadata": {},
   "outputs": [
    {
     "name": "stdout",
     "output_type": "stream",
     "text": [
      "Nuestro set es :  {1, 2, 3, 4, 5, 6, 7, 8, 9, 10, 11, 12, 14, 15, 16, 17, 18, 19, 20, 21, 22, 23, 24, 25}\n"
     ]
    }
   ],
   "source": [
    "import random  as r\n",
    "\n",
    "Números=set()\n",
    "\n",
    "for i in range(0,100):\n",
    "    Números.add(r.randint(1,25))\n",
    "\n",
    "print(\"Nuestro set es : \", Números)"
   ]
  },
  {
   "cell_type": "markdown",
   "metadata": {},
   "source": [
    "*Comprueba la longitud de tu set."
   ]
  },
  {
   "cell_type": "code",
   "execution_count": 27,
   "metadata": {},
   "outputs": [
    {
     "name": "stdout",
     "output_type": "stream",
     "text": [
      "La longitud de nuestro set es de :  25\n"
     ]
    }
   ],
   "source": [
    "print(\"La longitud de nuestro set es de : \",len(Números))"
   ]
  },
  {
   "cell_type": "markdown",
   "metadata": {},
   "source": [
    "# NOTA:\n",
    "Como sabemos que los set solo almacenan datos unicos, es decir no se pueden repetir entonces solo tenemos un total de 25 datos en nuestro set"
   ]
  },
  {
   "cell_type": "markdown",
   "metadata": {},
   "source": [
    "*Crea una lista de 5 numeros aleatorios del 1 al 10 y comprueba si cada valor aparece en el set inicial"
   ]
  },
  {
   "cell_type": "code",
   "execution_count": 54,
   "metadata": {},
   "outputs": [
    {
     "name": "stdout",
     "output_type": "stream",
     "text": [
      "9  aparece en nuestro set inicial\n",
      "2  aparece en nuestro set inicial\n",
      "6  aparece en nuestro set inicial\n",
      "8  aparece en nuestro set inicial\n",
      "5  aparece en nuestro set inicial\n"
     ]
    }
   ],
   "source": [
    "Lista = []\n",
    "\n",
    "for i in range(0,5):\n",
    "    Lista.append(r.randint(1,10))\n",
    "    if Lista[i] in Números:\n",
    "        print(Lista[i], \" aparece en nuestro set inicial\")\n",
    "    else:\n",
    "        print(Lista[i], \" no aparece en nuestro set inicial\")"
   ]
  }
 ],
 "metadata": {
  "kernelspec": {
   "display_name": "Python 3",
   "language": "python",
   "name": "python3"
  },
  "language_info": {
   "codemirror_mode": {
    "name": "ipython",
    "version": 3
   },
   "file_extension": ".py",
   "mimetype": "text/x-python",
   "name": "python",
   "nbconvert_exporter": "python",
   "pygments_lexer": "ipython3",
   "version": "3.8.5"
  }
 },
 "nbformat": 4,
 "nbformat_minor": 4
}
